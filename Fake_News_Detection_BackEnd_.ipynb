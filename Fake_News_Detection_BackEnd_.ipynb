{
  "nbformat": 4,
  "nbformat_minor": 0,
  "metadata": {
    "colab": {
      "provenance": [],
      "authorship_tag": "ABX9TyMJhbro0NjuYmyru+HtJ5fO",
      "include_colab_link": true
    },
    "kernelspec": {
      "name": "python3",
      "display_name": "Python 3"
    },
    "language_info": {
      "name": "python"
    }
  },
  "cells": [
    {
      "cell_type": "markdown",
      "metadata": {
        "id": "view-in-github",
        "colab_type": "text"
      },
      "source": [
        "<a href=\"https://colab.research.google.com/github/sakuna47/Fake_News_Detection/blob/FrontEnd/Fake_News_Detection_BackEnd_.ipynb\" target=\"_parent\"><img src=\"https://colab.research.google.com/assets/colab-badge.svg\" alt=\"Open In Colab\"/></a>"
      ]
    },
    {
      "cell_type": "code",
      "execution_count": null,
      "metadata": {
        "id": "b9OY7bQKRump"
      },
      "outputs": [],
      "source": [
        "import streamlit as st\n",
        "import joblib\n",
        "import numpy as np\n",
        "from nltk.corpus import stopwords\n",
        "from nltk.stem import PorterStemmer\n",
        "import re\n",
        "\n",
        "# Load the model and vectorizer\n",
        "model = joblib.load('fake_news_model.pkl')\n",
        "tfidf = joblib.load('tfidf_vectorizer.pkl')\n",
        "\n",
        "# Preprocessing function\n",
        "stemmer = PorterStemmer()\n",
        "stop_words = set(stopwords.words('english'))\n",
        "\n",
        "def preprocess_text(text):\n",
        "    text = text.lower()\n",
        "    text = re.sub('[^a-zA-Z]', ' ', text)\n",
        "    words = text.split()\n",
        "    words = [stemmer.stem(word) for word in words if word not in stop_words]\n",
        "    return ' '.join(words)\n",
        "\n",
        "# Streamlit app\n",
        "st.title(\"Fake News Detector\")\n",
        "st.write(\"Enter a news article below to check if it's real or fake.\")\n",
        "\n",
        "# Text input\n",
        "user_input = st.text_area(\"Paste the news article here:\")\n",
        "\n",
        "if st.button(\"Predict\"):\n",
        "    # Preprocess and predict\n",
        "    cleaned_text = preprocess_text(user_input)\n",
        "    text_vector = tfidf.transform([cleaned_text]).toarray()\n",
        "    prediction = model.predict(text_vector)\n",
        "\n",
        "    if prediction[0] == 0:\n",
        "        st.success(\"Prediction: Real News ✅\")\n",
        "    else:\n",
        "        st.error(\"Prediction: Fake News ❌\")"
      ]
    }
  ]
}