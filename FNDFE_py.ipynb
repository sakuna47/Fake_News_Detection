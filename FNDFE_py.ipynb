{
  "nbformat": 4,
  "nbformat_minor": 0,
  "metadata": {
    "colab": {
      "provenance": [],
      "gpuType": "T4",
      "authorship_tag": "ABX9TyMy6enTfSPfHRgjEYEil59J",
      "include_colab_link": true
    },
    "kernelspec": {
      "name": "python3",
      "display_name": "Python 3"
    },
    "language_info": {
      "name": "python"
    },
    "accelerator": "GPU"
  },
  "cells": [
    {
      "cell_type": "markdown",
      "metadata": {
        "id": "view-in-github",
        "colab_type": "text"
      },
      "source": [
        "<a href=\"https://colab.research.google.com/github/sakuna47/Fake_News_Detection/blob/FrontEnd/FNDFE_py.ipynb\" target=\"_parent\"><img src=\"https://colab.research.google.com/assets/colab-badge.svg\" alt=\"Open In Colab\"/></a>"
      ]
    },
    {
      "cell_type": "code",
      "execution_count": 1,
      "metadata": {
        "colab": {
          "base_uri": "https://localhost:8080/",
          "height": 383
        },
        "id": "b9OY7bQKRump",
        "outputId": "94ec0a21-60dc-4704-9885-1c97336a6bba"
      },
      "outputs": [
        {
          "output_type": "error",
          "ename": "ModuleNotFoundError",
          "evalue": "No module named 'streamlit'",
          "traceback": [
            "\u001b[0;31m---------------------------------------------------------------------------\u001b[0m",
            "\u001b[0;31mModuleNotFoundError\u001b[0m                       Traceback (most recent call last)",
            "\u001b[0;32m<ipython-input-1-9dfdf8f8f7f7>\u001b[0m in \u001b[0;36m<cell line: 0>\u001b[0;34m()\u001b[0m\n\u001b[0;32m----> 1\u001b[0;31m \u001b[0;32mimport\u001b[0m \u001b[0mstreamlit\u001b[0m \u001b[0;32mas\u001b[0m \u001b[0mst\u001b[0m\u001b[0;34m\u001b[0m\u001b[0;34m\u001b[0m\u001b[0m\n\u001b[0m\u001b[1;32m      2\u001b[0m \u001b[0;32mimport\u001b[0m \u001b[0mjoblib\u001b[0m\u001b[0;34m\u001b[0m\u001b[0;34m\u001b[0m\u001b[0m\n\u001b[1;32m      3\u001b[0m \u001b[0;32mimport\u001b[0m \u001b[0mnumpy\u001b[0m \u001b[0;32mas\u001b[0m \u001b[0mnp\u001b[0m\u001b[0;34m\u001b[0m\u001b[0;34m\u001b[0m\u001b[0m\n\u001b[1;32m      4\u001b[0m \u001b[0;32mimport\u001b[0m \u001b[0mnltk\u001b[0m\u001b[0;34m\u001b[0m\u001b[0;34m\u001b[0m\u001b[0m\n\u001b[1;32m      5\u001b[0m \u001b[0;32mfrom\u001b[0m \u001b[0mnltk\u001b[0m\u001b[0;34m.\u001b[0m\u001b[0mcorpus\u001b[0m \u001b[0;32mimport\u001b[0m \u001b[0mstopwords\u001b[0m\u001b[0;34m\u001b[0m\u001b[0;34m\u001b[0m\u001b[0m\n",
            "\u001b[0;31mModuleNotFoundError\u001b[0m: No module named 'streamlit'",
            "",
            "\u001b[0;31m---------------------------------------------------------------------------\u001b[0;32m\nNOTE: If your import is failing due to a missing package, you can\nmanually install dependencies using either !pip or !apt.\n\nTo view examples of installing some common dependencies, click the\n\"Open Examples\" button below.\n\u001b[0;31m---------------------------------------------------------------------------\u001b[0m\n"
          ],
          "errorDetails": {
            "actions": [
              {
                "action": "open_url",
                "actionText": "Open Examples",
                "url": "/notebooks/snippets/importing_libraries.ipynb"
              }
            ]
          }
        }
      ],
      "source": [
        "import streamlit as st\n",
        "import joblib\n",
        "import numpy as np\n",
        "import nltk\n",
        "from nltk.corpus import stopwords\n",
        "from nltk.stem import PorterStemmer\n",
        "import re\n",
        "import os\n",
        "\n",
        "# Paths to model files\n",
        "model_path = os.path.join(\"C:\\\\Users\\\\Dell\\\\Desktop\\\\FN\", \"fake_news_model.pkl\")\n",
        "vectorizer_path = os.path.join(\"C:\\\\Users\\\\Dell\\\\Desktop\\\\FN\", \"tfidf_vectorizer.pkl\")\n",
        "\n",
        "# Ensure model files exist before loading\n",
        "if not os.path.exists(model_path) or not os.path.exists(vectorizer_path):\n",
        "    st.error(\"Model files not found! Make sure 'fake_news_model.pkl' and 'tfidf_vectorizer.pkl' exist in the correct folder.\")\n",
        "    st.stop()\n",
        "\n",
        "# Load the model and vectorizer\n",
        "model = joblib.load(model_path)\n",
        "tfidf = joblib.load(vectorizer_path)\n",
        "\n",
        "# Preprocessing function\n",
        "stemmer = PorterStemmer()\n",
        "stop_words = set(stopwords.words('english'))\n",
        "\n",
        "def preprocess_text(text):\n",
        "    text = text.lower()\n",
        "    text = re.sub('[^a-zA-Z]', ' ', text)\n",
        "    words = text.split()\n",
        "    words = [stemmer.stem(word) for word in words if word not in stop_words]\n",
        "    return ' '.join(words)\n",
        "\n",
        "# Streamlit app\n",
        "st.title(\"Fake News Detector\")\n",
        "st.write(\"Enter a news article below to check if it's real or fake.\")\n",
        "\n",
        "# Text input\n",
        "user_input = st.text_area(\"Paste the news article here:\")\n",
        "\n",
        "if st.button(\"Predict\"):\n",
        "    if user_input.strip() == \"\":\n",
        "        st.warning(\"Please enter a news article to analyze.\")\n",
        "    else:\n",
        "        # Preprocess and predict\n",
        "        cleaned_text = preprocess_text(user_input)\n",
        "        text_vector = tfidf.transform([cleaned_text]).toarray()\n",
        "        prediction = model.predict(text_vector)\n",
        "\n",
        "        if prediction[0] == 0:\n",
        "            st.success(\"Prediction: Real News ✅\")\n",
        "        else:\n",
        "            st.error(\"Prediction: Fake News ❌\")"
      ]
    }
  ]
}